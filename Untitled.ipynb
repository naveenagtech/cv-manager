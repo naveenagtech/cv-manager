{
 "cells": [
  {
   "cell_type": "code",
   "execution_count": 13,
   "id": "92ae5646",
   "metadata": {},
   "outputs": [],
   "source": [
    "import sqlite3"
   ]
  },
  {
   "cell_type": "code",
   "execution_count": 14,
   "id": "9b82e9a3",
   "metadata": {},
   "outputs": [],
   "source": [
    "conn = sqlite3.connect(\"sqlite.db\")"
   ]
  },
  {
   "cell_type": "code",
   "execution_count": 15,
   "id": "cc858eb9",
   "metadata": {},
   "outputs": [],
   "source": [
    "cur = conn.cursor()"
   ]
  },
  {
   "cell_type": "code",
   "execution_count": 16,
   "id": "29d81d49",
   "metadata": {},
   "outputs": [
    {
     "data": {
      "text/plain": [
       "<sqlite3.Cursor at 0x106f4c4c0>"
      ]
     },
     "execution_count": 16,
     "metadata": {},
     "output_type": "execute_result"
    }
   ],
   "source": [
    "cur.execute(\"SELECT skills from user;\")"
   ]
  },
  {
   "cell_type": "code",
   "execution_count": null,
   "id": "8542dc85",
   "metadata": {},
   "outputs": [],
   "source": []
  },
  {
   "cell_type": "code",
   "execution_count": 17,
   "id": "dc0d215f",
   "metadata": {},
   "outputs": [],
   "source": [
    "def dictfetchall(cursor):\n",
    "    \"Return all rows from a cursor as a dict\"\n",
    "    columns = [col[0] for col in cursor.description]\n",
    "    return [dict(zip(columns, row)) for row in cursor.fetchall()]\n"
   ]
  },
  {
   "cell_type": "code",
   "execution_count": 18,
   "id": "d305da96",
   "metadata": {},
   "outputs": [],
   "source": [
    "data = dictfetchall(cur)"
   ]
  },
  {
   "cell_type": "code",
   "execution_count": null,
   "id": "ebb9a58d",
   "metadata": {},
   "outputs": [],
   "source": []
  },
  {
   "cell_type": "code",
   "execution_count": 31,
   "id": "28e02e41",
   "metadata": {},
   "outputs": [],
   "source": [
    "def get_unique_skills(data):\n",
    "    \n",
    "    unique_skills = []\n",
    "    for skill in [i['skills'] for i in data]:\n",
    "        unique_skills.extend((eval(skill)))\n",
    "\n",
    "    return set(unique_skills)"
   ]
  },
  {
   "cell_type": "code",
   "execution_count": 33,
   "id": "943ef12d",
   "metadata": {},
   "outputs": [],
   "source": [
    "u_skills = get_unique_skills(data)"
   ]
  },
  {
   "cell_type": "code",
   "execution_count": 36,
   "id": "28ca1336",
   "metadata": {},
   "outputs": [
    {
     "name": "stdout",
     "output_type": "stream",
     "text": [
      "[\"BUSINESS\", \"documentation\", \"Business\", \"business\", \"marketing\", \"Commerce\"]\n",
      "[\"Google\", \"Medium\", \"Business\", \"R\", \"Marketing\"]\n",
      "[\"HTML5\", \"ES6\", \"CSS\", \"Software\", \"API\", \"Python\", \"library\", \"GitHub\", \"React\", \"JavaScript\", \"Postman\", \"Component\", \"Rest API\", \"JIRA\", \"SQL\", \"Bitbucket\", \"Testing\", \"HTML\", \"HTTP\", \"Bootstrap\", \"User Interface\", \"design\", \"MYSQL\"]\n",
      "[\"BUSINESS\", \"documentation\", \"Business\", \"business\", \"marketing\", \"Commerce\"]\n",
      "[\"Google\", \"Medium\", \"Business\", \"R\", \"Marketing\"]\n",
      "[\"HTML5\", \"ES6\", \"CSS\", \"Software\", \"API\", \"Python\", \"library\", \"GitHub\", \"React\", \"JavaScript\", \"Postman\", \"Component\", \"Rest API\", \"JIRA\", \"SQL\", \"Bitbucket\", \"Testing\", \"HTML\", \"HTTP\", \"Bootstrap\", \"User Interface\", \"design\", \"MYSQL\"]\n",
      "[\"BUSINESS\", \"documentation\", \"Business\", \"business\", \"marketing\", \"Commerce\"]\n",
      "[\"Google\", \"Medium\", \"Business\", \"R\", \"Marketing\"]\n",
      "[\"HTML5\", \"ES6\", \"CSS\", \"Software\", \"API\", \"Python\", \"library\", \"GitHub\", \"React\", \"JavaScript\", \"Postman\", \"Component\", \"Rest API\", \"JIRA\", \"SQL\", \"Bitbucket\", \"Testing\", \"HTML\", \"HTTP\", \"Bootstrap\", \"User Interface\", \"design\", \"MYSQL\"]\n",
      "[\"BUSINESS\", \"documentation\", \"Business\", \"business\", \"marketing\", \"Commerce\"]\n",
      "[\"Google\", \"Medium\", \"Business\", \"R\", \"Marketing\"]\n",
      "[\"HTML5\", \"ES6\", \"CSS\", \"Software\", \"API\", \"Python\", \"library\", \"GitHub\", \"React\", \"JavaScript\", \"Postman\", \"Component\", \"Rest API\", \"JIRA\", \"SQL\", \"Bitbucket\", \"Testing\", \"HTML\", \"HTTP\", \"Bootstrap\", \"User Interface\", \"design\", \"MYSQL\"]\n",
      "[\"BUSINESS\", \"documentation\", \"Business\", \"business\", \"marketing\", \"Commerce\"]\n",
      "[\"Google\", \"Medium\", \"Business\", \"R\", \"Marketing\"]\n",
      "[\"HTML5\", \"ES6\", \"CSS\", \"Software\", \"API\", \"Python\", \"library\", \"GitHub\", \"React\", \"JavaScript\", \"Postman\", \"Component\", \"Rest API\", \"JIRA\", \"SQL\", \"Bitbucket\", \"Testing\", \"HTML\", \"HTTP\", \"Bootstrap\", \"User Interface\", \"design\", \"MYSQL\"]\n",
      "[\"BUSINESS\", \"documentation\", \"Business\", \"business\", \"marketing\", \"Commerce\"]\n",
      "[\"Google\", \"Medium\", \"Business\", \"R\", \"Marketing\"]\n",
      "[\"HTML5\", \"ES6\", \"CSS\", \"Software\", \"API\", \"Python\", \"library\", \"GitHub\", \"React\", \"JavaScript\", \"Postman\", \"Component\", \"Rest API\", \"JIRA\", \"SQL\", \"Bitbucket\", \"Testing\", \"HTML\", \"HTTP\", \"Bootstrap\", \"User Interface\", \"design\", \"MYSQL\"]\n",
      "[\"BUSINESS\", \"documentation\", \"Business\", \"business\", \"marketing\", \"Commerce\"]\n",
      "[\"Google\", \"Medium\", \"Business\", \"R\", \"Marketing\"]\n",
      "[\"HTML5\", \"ES6\", \"CSS\", \"Software\", \"API\", \"Python\", \"library\", \"GitHub\", \"React\", \"JavaScript\", \"Postman\", \"Component\", \"Rest API\", \"JIRA\", \"SQL\", \"Bitbucket\", \"Testing\", \"HTML\", \"HTTP\", \"Bootstrap\", \"User Interface\", \"design\", \"MYSQL\"]\n",
      "[\"BUSINESS\", \"documentation\", \"Business\", \"business\", \"marketing\", \"Commerce\"]\n",
      "[\"Google\", \"Medium\", \"Business\", \"R\", \"Marketing\"]\n",
      "[\"HTML5\", \"ES6\", \"CSS\", \"Software\", \"API\", \"Python\", \"library\", \"GitHub\", \"React\", \"JavaScript\", \"Postman\", \"Component\", \"Rest API\", \"JIRA\", \"SQL\", \"Bitbucket\", \"Testing\", \"HTML\", \"HTTP\", \"Bootstrap\", \"User Interface\", \"design\", \"MYSQL\"]\n",
      "[\"BUSINESS\", \"documentation\", \"Business\", \"business\", \"marketing\", \"Commerce\"]\n",
      "[\"Google\", \"Medium\", \"Business\", \"R\", \"Marketing\"]\n",
      "[\"HTML5\", \"ES6\", \"CSS\", \"Software\", \"API\", \"Python\", \"library\", \"GitHub\", \"React\", \"JavaScript\", \"Postman\", \"Component\", \"Rest API\", \"JIRA\", \"SQL\", \"Bitbucket\", \"Testing\", \"HTML\", \"HTTP\", \"Bootstrap\", \"User Interface\", \"design\", \"MYSQL\"]\n",
      "[\"BUSINESS\", \"documentation\", \"Business\", \"business\", \"marketing\", \"Commerce\"]\n",
      "[\"Google\", \"Medium\", \"Business\", \"R\", \"Marketing\"]\n",
      "[\"HTML5\", \"ES6\", \"CSS\", \"Software\", \"API\", \"Python\", \"library\", \"GitHub\", \"React\", \"JavaScript\", \"Postman\", \"Component\", \"Rest API\", \"JIRA\", \"SQL\", \"Bitbucket\", \"Testing\", \"HTML\", \"HTTP\", \"Bootstrap\", \"User Interface\", \"design\", \"MYSQL\"]\n",
      "[\"BUSINESS\", \"documentation\", \"Business\", \"business\", \"marketing\", \"Commerce\"]\n",
      "[\"Google\", \"Medium\", \"Business\", \"R\", \"Marketing\"]\n",
      "[\"HTML5\", \"ES6\", \"CSS\", \"Software\", \"API\", \"Python\", \"library\", \"GitHub\", \"React\", \"JavaScript\", \"Postman\", \"Component\", \"Rest API\", \"JIRA\", \"SQL\", \"Bitbucket\", \"Testing\", \"HTML\", \"HTTP\", \"Bootstrap\", \"User Interface\", \"design\", \"MYSQL\"]\n",
      "[\"BUSINESS\", \"documentation\", \"Business\", \"business\", \"marketing\", \"Commerce\"]\n",
      "[\"Google\", \"Medium\", \"Business\", \"R\", \"Marketing\"]\n",
      "[\"HTML5\", \"ES6\", \"CSS\", \"Software\", \"API\", \"Python\", \"library\", \"GitHub\", \"React\", \"JavaScript\", \"Postman\", \"Component\", \"Rest API\", \"JIRA\", \"SQL\", \"Bitbucket\", \"Testing\", \"HTML\", \"HTTP\", \"Bootstrap\", \"User Interface\", \"design\", \"MYSQL\"]\n",
      "[\"BUSINESS\", \"documentation\", \"Business\", \"business\", \"marketing\", \"Commerce\"]\n",
      "[\"Google\", \"Medium\", \"Business\", \"R\", \"Marketing\"]\n",
      "[\"HTML5\", \"ES6\", \"CSS\", \"Software\", \"API\", \"Python\", \"library\", \"GitHub\", \"React\", \"JavaScript\", \"Postman\", \"Component\", \"Rest API\", \"JIRA\", \"SQL\", \"Bitbucket\", \"Testing\", \"HTML\", \"HTTP\", \"Bootstrap\", \"User Interface\", \"design\", \"MYSQL\"]\n",
      "[\"BUSINESS\", \"documentation\", \"Business\", \"business\", \"marketing\", \"Commerce\"]\n",
      "[\"Google\", \"Medium\", \"Business\", \"R\", \"Marketing\"]\n",
      "[\"HTML5\", \"ES6\", \"CSS\", \"Software\", \"API\", \"Python\", \"library\", \"GitHub\", \"React\", \"JavaScript\", \"Postman\", \"Component\", \"Rest API\", \"JIRA\", \"SQL\", \"Bitbucket\", \"Testing\", \"HTML\", \"HTTP\", \"Bootstrap\", \"User Interface\", \"design\", \"MYSQL\"]\n",
      "[\"BUSINESS\", \"documentation\", \"Business\", \"business\", \"marketing\", \"Commerce\"]\n",
      "[\"Google\", \"Medium\", \"Business\", \"R\", \"Marketing\"]\n",
      "[\"HTML5\", \"ES6\", \"CSS\", \"Software\", \"API\", \"Python\", \"library\", \"GitHub\", \"React\", \"JavaScript\", \"Postman\", \"Component\", \"Rest API\", \"JIRA\", \"SQL\", \"Bitbucket\", \"Testing\", \"HTML\", \"HTTP\", \"Bootstrap\", \"User Interface\", \"design\", \"MYSQL\"]\n",
      "[\"BUSINESS\", \"documentation\", \"Business\", \"business\", \"marketing\", \"Commerce\"]\n",
      "[\"Google\", \"Medium\", \"Business\", \"R\", \"Marketing\"]\n",
      "[\"HTML5\", \"ES6\", \"CSS\", \"Software\", \"API\", \"Python\", \"library\", \"GitHub\", \"React\", \"JavaScript\", \"Postman\", \"Component\", \"Rest API\", \"JIRA\", \"SQL\", \"Bitbucket\", \"Testing\", \"HTML\", \"HTTP\", \"Bootstrap\", \"User Interface\", \"design\", \"MYSQL\"]\n",
      "[\"BUSINESS\", \"documentation\", \"Business\", \"business\", \"marketing\", \"Commerce\"]\n",
      "[\"Google\", \"Medium\", \"Business\", \"R\", \"Marketing\"]\n",
      "[\"HTML5\", \"ES6\", \"CSS\", \"Software\", \"API\", \"Python\", \"library\", \"GitHub\", \"React\", \"JavaScript\", \"Postman\", \"Component\", \"Rest API\", \"JIRA\", \"SQL\", \"Bitbucket\", \"Testing\", \"HTML\", \"HTTP\", \"Bootstrap\", \"User Interface\", \"design\", \"MYSQL\"]\n",
      "[\"BUSINESS\", \"documentation\", \"Business\", \"business\", \"marketing\", \"Commerce\"]\n",
      "[\"Google\", \"Medium\", \"Business\", \"R\", \"Marketing\"]\n",
      "[\"HTML5\", \"ES6\", \"CSS\", \"Software\", \"API\", \"Python\", \"library\", \"GitHub\", \"React\", \"JavaScript\", \"Postman\", \"Component\", \"Rest API\", \"JIRA\", \"SQL\", \"Bitbucket\", \"Testing\", \"HTML\", \"HTTP\", \"Bootstrap\", \"User Interface\", \"design\", \"MYSQL\"]\n",
      "[\"BUSINESS\", \"documentation\", \"Business\", \"business\", \"marketing\", \"Commerce\"]\n",
      "[\"Google\", \"Medium\", \"Business\", \"R\", \"Marketing\"]\n",
      "[\"HTML5\", \"ES6\", \"CSS\", \"Software\", \"API\", \"Python\", \"library\", \"GitHub\", \"React\", \"JavaScript\", \"Postman\", \"Component\", \"Rest API\", \"JIRA\", \"SQL\", \"Bitbucket\", \"Testing\", \"HTML\", \"HTTP\", \"Bootstrap\", \"User Interface\", \"design\", \"MYSQL\"]\n",
      "[\"BUSINESS\", \"documentation\", \"Business\", \"business\", \"marketing\", \"Commerce\"]\n",
      "[\"Google\", \"Medium\", \"Business\", \"R\", \"Marketing\"]\n",
      "[\"HTML5\", \"ES6\", \"CSS\", \"Software\", \"API\", \"Python\", \"library\", \"GitHub\", \"React\", \"JavaScript\", \"Postman\", \"Component\", \"Rest API\", \"JIRA\", \"SQL\", \"Bitbucket\", \"Testing\", \"HTML\", \"HTTP\", \"Bootstrap\", \"User Interface\", \"design\", \"MYSQL\"]\n",
      "[\"BUSINESS\", \"documentation\", \"Business\", \"business\", \"marketing\", \"Commerce\"]\n",
      "[\"Google\", \"Medium\", \"Business\", \"R\", \"Marketing\"]\n",
      "[\"HTML5\", \"ES6\", \"CSS\", \"Software\", \"API\", \"Python\", \"library\", \"GitHub\", \"React\", \"JavaScript\", \"Postman\", \"Component\", \"Rest API\", \"JIRA\", \"SQL\", \"Bitbucket\", \"Testing\", \"HTML\", \"HTTP\", \"Bootstrap\", \"User Interface\", \"design\", \"MYSQL\"]\n",
      "[\"BUSINESS\", \"documentation\", \"Business\", \"business\", \"marketing\", \"Commerce\"]\n",
      "[\"Google\", \"Medium\", \"Business\", \"R\", \"Marketing\"]\n",
      "[\"HTML5\", \"ES6\", \"CSS\", \"Software\", \"API\", \"Python\", \"library\", \"GitHub\", \"React\", \"JavaScript\", \"Postman\", \"Component\", \"Rest API\", \"JIRA\", \"SQL\", \"Bitbucket\", \"Testing\", \"HTML\", \"HTTP\", \"Bootstrap\", \"User Interface\", \"design\", \"MYSQL\"]\n",
      "[\"BUSINESS\", \"documentation\", \"Business\", \"business\", \"marketing\", \"Commerce\"]\n",
      "[\"Google\", \"Medium\", \"Business\", \"R\", \"Marketing\"]\n",
      "[\"HTML5\", \"ES6\", \"CSS\", \"Software\", \"API\", \"Python\", \"library\", \"GitHub\", \"React\", \"JavaScript\", \"Postman\", \"Component\", \"Rest API\", \"JIRA\", \"SQL\", \"Bitbucket\", \"Testing\", \"HTML\", \"HTTP\", \"Bootstrap\", \"User Interface\", \"design\", \"MYSQL\"]\n",
      "[\"BUSINESS\", \"documentation\", \"Business\", \"business\", \"marketing\", \"Commerce\"]\n",
      "[\"Google\", \"Medium\", \"Business\", \"R\", \"Marketing\"]\n",
      "[\"HTML5\", \"ES6\", \"CSS\", \"Software\", \"API\", \"Python\", \"library\", \"GitHub\", \"React\", \"JavaScript\", \"Postman\", \"Component\", \"Rest API\", \"JIRA\", \"SQL\", \"Bitbucket\", \"Testing\", \"HTML\", \"HTTP\", \"Bootstrap\", \"User Interface\", \"design\", \"MYSQL\"]\n",
      "[\"BUSINESS\", \"documentation\", \"Business\", \"business\", \"marketing\", \"Commerce\"]\n",
      "[\"Google\", \"Medium\", \"Business\", \"R\", \"Marketing\"]\n",
      "[\"HTML5\", \"ES6\", \"CSS\", \"Software\", \"API\", \"Python\", \"library\", \"GitHub\", \"React\", \"JavaScript\", \"Postman\", \"Component\", \"Rest API\", \"JIRA\", \"SQL\", \"Bitbucket\", \"Testing\", \"HTML\", \"HTTP\", \"Bootstrap\", \"User Interface\", \"design\", \"MYSQL\"]\n",
      "[\"BUSINESS\", \"documentation\", \"Business\", \"business\", \"marketing\", \"Commerce\"]\n",
      "[\"Google\", \"Medium\", \"Business\", \"R\", \"Marketing\"]\n",
      "[\"HTML5\", \"ES6\", \"CSS\", \"Software\", \"API\", \"Python\", \"library\", \"GitHub\", \"React\", \"JavaScript\", \"Postman\", \"Component\", \"Rest API\", \"JIRA\", \"SQL\", \"Bitbucket\", \"Testing\", \"HTML\", \"HTTP\", \"Bootstrap\", \"User Interface\", \"design\", \"MYSQL\"]\n",
      "[\"BUSINESS\", \"documentation\", \"Business\", \"business\", \"marketing\", \"Commerce\"]\n",
      "[\"Google\", \"Medium\", \"Business\", \"R\", \"Marketing\"]\n",
      "[\"HTML5\", \"ES6\", \"CSS\", \"Software\", \"API\", \"Python\", \"library\", \"GitHub\", \"React\", \"JavaScript\", \"Postman\", \"Component\", \"Rest API\", \"JIRA\", \"SQL\", \"Bitbucket\", \"Testing\", \"HTML\", \"HTTP\", \"Bootstrap\", \"User Interface\", \"design\", \"MYSQL\"]\n",
      "[\"BUSINESS\", \"documentation\", \"Business\", \"business\", \"marketing\", \"Commerce\"]\n",
      "[\"Google\", \"Medium\", \"Business\", \"R\", \"Marketing\"]\n",
      "[\"HTML5\", \"ES6\", \"CSS\", \"Software\", \"API\", \"Python\", \"library\", \"GitHub\", \"React\", \"JavaScript\", \"Postman\", \"Component\", \"Rest API\", \"JIRA\", \"SQL\", \"Bitbucket\", \"Testing\", \"HTML\", \"HTTP\", \"Bootstrap\", \"User Interface\", \"design\", \"MYSQL\"]\n",
      "[\"BUSINESS\", \"documentation\", \"Business\", \"business\", \"marketing\", \"Commerce\"]\n",
      "[\"Google\", \"Medium\", \"Business\", \"R\", \"Marketing\"]\n",
      "[\"HTML5\", \"ES6\", \"CSS\", \"Software\", \"API\", \"Python\", \"library\", \"GitHub\", \"React\", \"JavaScript\", \"Postman\", \"Component\", \"Rest API\", \"JIRA\", \"SQL\", \"Bitbucket\", \"Testing\", \"HTML\", \"HTTP\", \"Bootstrap\", \"User Interface\", \"design\", \"MYSQL\"]\n",
      "[\"BUSINESS\", \"documentation\", \"Business\", \"business\", \"marketing\", \"Commerce\"]\n",
      "[\"Google\", \"Medium\", \"Business\", \"R\", \"Marketing\"]\n",
      "[\"HTML5\", \"ES6\", \"CSS\", \"Software\", \"API\", \"Python\", \"library\", \"GitHub\", \"React\", \"JavaScript\", \"Postman\", \"Component\", \"Rest API\", \"JIRA\", \"SQL\", \"Bitbucket\", \"Testing\", \"HTML\", \"HTTP\", \"Bootstrap\", \"User Interface\", \"design\", \"MYSQL\"]\n",
      "[\"BUSINESS\", \"documentation\", \"Business\", \"business\", \"marketing\", \"Commerce\"]\n",
      "[\"Google\", \"Medium\", \"Business\", \"R\", \"Marketing\"]\n",
      "[\"HTML5\", \"ES6\", \"CSS\", \"Software\", \"API\", \"Python\", \"library\", \"GitHub\", \"React\", \"JavaScript\", \"Postman\", \"Component\", \"Rest API\", \"JIRA\", \"SQL\", \"Bitbucket\", \"Testing\", \"HTML\", \"HTTP\", \"Bootstrap\", \"User Interface\", \"design\", \"MYSQL\"]\n",
      "[\"BUSINESS\", \"documentation\", \"Business\", \"business\", \"marketing\", \"Commerce\"]\n",
      "[\"Google\", \"Medium\", \"Business\", \"R\", \"Marketing\"]\n",
      "[\"HTML5\", \"ES6\", \"CSS\", \"Software\", \"API\", \"Python\", \"library\", \"GitHub\", \"React\", \"JavaScript\", \"Postman\", \"Component\", \"Rest API\", \"JIRA\", \"SQL\", \"Bitbucket\", \"Testing\", \"HTML\", \"HTTP\", \"Bootstrap\", \"User Interface\", \"design\", \"MYSQL\"]\n",
      "[\"BUSINESS\", \"documentation\", \"Business\", \"business\", \"marketing\", \"Commerce\"]\n",
      "[\"Google\", \"Medium\", \"Business\", \"R\", \"Marketing\"]\n",
      "[\"HTML5\", \"ES6\", \"CSS\", \"Software\", \"API\", \"Python\", \"library\", \"GitHub\", \"React\", \"JavaScript\", \"Postman\", \"Component\", \"Rest API\", \"JIRA\", \"SQL\", \"Bitbucket\", \"Testing\", \"HTML\", \"HTTP\", \"Bootstrap\", \"User Interface\", \"design\", \"MYSQL\"]\n"
     ]
    }
   ],
   "source": [
    "\n",
    "for i in u_skills:\n",
    "    for row in data:\n",
    "        if i in eval(row['skills']):\n",
    "            print()"
   ]
  },
  {
   "cell_type": "code",
   "execution_count": 37,
   "id": "92928fa2",
   "metadata": {},
   "outputs": [],
   "source": [
    "res = {}"
   ]
  },
  {
   "cell_type": "code",
   "execution_count": 41,
   "id": "5f501d1c",
   "metadata": {},
   "outputs": [
    {
     "ename": "NameError",
     "evalue": "name 'df' is not defined",
     "output_type": "error",
     "traceback": [
      "\u001b[0;31m---------------------------------------------------------------------------\u001b[0m",
      "\u001b[0;31mNameError\u001b[0m                                 Traceback (most recent call last)",
      "Input \u001b[0;32mIn [41]\u001b[0m, in \u001b[0;36m<cell line: 1>\u001b[0;34m()\u001b[0m\n\u001b[0;32m----> 1\u001b[0m Job_cat \u001b[38;5;241m=\u001b[39m \u001b[43mdf\u001b[49m[\u001b[38;5;124m\"\u001b[39m\u001b[38;5;124mCategory\u001b[39m\u001b[38;5;124m\"\u001b[39m]\u001b[38;5;241m.\u001b[39munique()\n\u001b[1;32m      2\u001b[0m Job_cat \u001b[38;5;241m=\u001b[39m np\u001b[38;5;241m.\u001b[39mappend(Job_cat, \u001b[38;5;124m\"\u001b[39m\u001b[38;5;124mALL\u001b[39m\u001b[38;5;124m\"\u001b[39m)\n",
      "\u001b[0;31mNameError\u001b[0m: name 'df' is not defined"
     ]
    }
   ],
   "source": [
    "Job_cat = data[\"Category\"].unique()\n",
    "Job_cat = np.append(Job_cat, \"ALL\")\n"
   ]
  },
  {
   "cell_type": "code",
   "execution_count": null,
   "id": "c3a67204",
   "metadata": {},
   "outputs": [],
   "source": []
  }
 ],
 "metadata": {
  "kernelspec": {
   "display_name": "Python 3 (ipykernel)",
   "language": "python",
   "name": "python3"
  },
  "language_info": {
   "codemirror_mode": {
    "name": "ipython",
    "version": 3
   },
   "file_extension": ".py",
   "mimetype": "text/x-python",
   "name": "python",
   "nbconvert_exporter": "python",
   "pygments_lexer": "ipython3",
   "version": "3.10.5"
  }
 },
 "nbformat": 4,
 "nbformat_minor": 5
}
